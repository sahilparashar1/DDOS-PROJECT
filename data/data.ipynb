{
 "cells": [
  {
   "cell_type": "code",
   "execution_count": 1,
   "metadata": {},
   "outputs": [],
   "source": [
    "import pandas as pd"
   ]
  },
  {
   "cell_type": "code",
   "execution_count": 2,
   "metadata": {},
   "outputs": [],
   "source": [
    "df=pd.read_parquet(r'bccc-cpacket-cloud-ddos-2024-merged.parquet')"
   ]
  },
  {
   "cell_type": "code",
   "execution_count": 4,
   "metadata": {},
   "outputs": [
    {
     "data": {
      "text/plain": [
       "(540494, 319)"
      ]
     },
     "execution_count": 4,
     "metadata": {},
     "output_type": "execute_result"
    }
   ],
   "source": [
    "df.shape"
   ]
  },
  {
   "cell_type": "code",
   "execution_count": 2,
   "metadata": {},
   "outputs": [],
   "source": [
    "data=pd.read_csv('final_data.csv')"
   ]
  },
  {
   "cell_type": "code",
   "execution_count": 9,
   "metadata": {},
   "outputs": [
    {
     "data": {
      "text/plain": [
       "(540494, 39)"
      ]
     },
     "execution_count": 9,
     "metadata": {},
     "output_type": "execute_result"
    }
   ],
   "source": [
    "data.shape"
   ]
  },
  {
   "cell_type": "code",
   "execution_count": 3,
   "metadata": {},
   "outputs": [],
   "source": [
    "sampled_data=data.sample(frac=0.1,random_state=42)"
   ]
  },
  {
   "cell_type": "code",
   "execution_count": 11,
   "metadata": {},
   "outputs": [
    {
     "data": {
      "text/plain": [
       "Index(['total_header_bytes', 'max_header_bytes', 'min_header_bytes',\n",
       "       'mean_header_bytes', 'median_header_bytes', 'mode_header_bytes',\n",
       "       'fwd_total_header_bytes', 'fwd_max_header_bytes',\n",
       "       'fwd_min_header_bytes', 'fwd_mean_header_bytes',\n",
       "       'fwd_median_header_bytes', 'fwd_mode_header_bytes',\n",
       "       'fwd_init_win_bytes', 'bwd_init_win_bytes', 'packets_rate',\n",
       "       'bwd_packets_rate', 'fwd_packets_rate', 'rst_flag_counts',\n",
       "       'bwd_rst_flag_counts', 'psh_flag_percentage_in_total',\n",
       "       'rst_flag_percentage_in_total', 'fwd_psh_flag_percentage_in_total',\n",
       "       'fwd_syn_flag_percentage_in_fwd_packets',\n",
       "       'bwd_psh_flag_percentage_in_bwd_packets',\n",
       "       'bwd_rst_flag_percentage_in_bwd_packets', 'bwd_packets_IAT_mean',\n",
       "       'bwd_packets_IAT_std', 'bwd_packets_IAT_max', 'bwd_packets_IAT_min',\n",
       "       'bwd_packets_IAT_total', 'bwd_packets_IAT_median',\n",
       "       'bwd_packets_IAT_mode', 'handshake_duration', 'handshake_state',\n",
       "       'mean_bwd_packets_delta_time', 'median_bwd_packets_delta_time',\n",
       "       'skewness_packets_delta_len', 'mode_fwd_packets_delta_len', 'label'],\n",
       "      dtype='object')"
      ]
     },
     "execution_count": 11,
     "metadata": {},
     "output_type": "execute_result"
    }
   ],
   "source": [
    "data.columns"
   ]
  },
  {
   "cell_type": "code",
   "execution_count": 4,
   "metadata": {},
   "outputs": [],
   "source": [
    "X=sampled_data.drop('label',axis=1)"
   ]
  },
  {
   "cell_type": "code",
   "execution_count": 5,
   "metadata": {},
   "outputs": [],
   "source": [
    "Y=sampled_data['label']"
   ]
  },
  {
   "cell_type": "code",
   "execution_count": 6,
   "metadata": {},
   "outputs": [],
   "source": [
    "import numpy as np\n",
    "import seaborn as sns\n",
    "from sklearn.model_selection import train_test_split, GridSearchCV\n",
    "from sklearn.preprocessing import StandardScaler\n",
    "from sklearn.linear_model import LogisticRegression\n",
    "from sklearn.metrics import accuracy_score, classification_report, confusion_matrix\n",
    "from sklearn.pipeline import Pipeline"
   ]
  },
  {
   "cell_type": "code",
   "execution_count": 7,
   "metadata": {},
   "outputs": [],
   "source": [
    "X_train,X_test,Y_train,Y_test=train_test_split(X,Y,test_size=0.2,random_state=42)"
   ]
  },
  {
   "cell_type": "code",
   "execution_count": 9,
   "metadata": {},
   "outputs": [
    {
     "name": "stdout",
     "output_type": "stream",
     "text": [
      "Fitting 5 folds for each of 1 candidates, totalling 5 fits\n"
     ]
    },
    {
     "name": "stderr",
     "output_type": "stream",
     "text": [
      "c:\\Users\\sahil\\Desktop\\DDOS PROJECT PART 2\\.venv\\Lib\\site-packages\\sklearn\\linear_model\\_logistic.py:1264: FutureWarning: 'multi_class' was deprecated in version 1.5 and will be removed in 1.7. From then on, it will always use 'multinomial'. Leave it to its default value to avoid this warning.\n",
      "  warnings.warn(\n"
     ]
    },
    {
     "name": "stdout",
     "output_type": "stream",
     "text": [
      "{'model__C': 2, 'model__class_weight': None, 'model__max_iter': 10000, 'model__multi_class': 'multinomial', 'model__penalty': 'l1', 'model__solver': 'saga'}\n",
      "0.9113993886218926\n"
     ]
    }
   ],
   "source": [
    "pipe=Pipeline([('scaler',StandardScaler()),('model',LogisticRegression())])\n",
    "params={\n",
    "        'model__C': [2], \n",
    "        'model__penalty': ['l1'],               \n",
    "        'model__solver': ['saga'],       \n",
    "        'model__max_iter': [10000],         \n",
    "        'model__class_weight': [None],\n",
    "        'model__multi_class': ['multinomial']\n",
    "        }\n",
    "grid=GridSearchCV(pipe,params,cv=5,n_jobs=-1,scoring='recall_weighted',verbose=1)\n",
    "grid.fit(X_train,Y_train)\n",
    "print(grid.best_params_)\n",
    "print(grid.best_score_)\n"
   ]
  },
  {
   "cell_type": "code",
   "execution_count": 10,
   "metadata": {},
   "outputs": [
    {
     "name": "stdout",
     "output_type": "stream",
     "text": [
      "              precision    recall  f1-score   support\n",
      "\n",
      "      Attack       0.93      0.86      0.89      3334\n",
      "      Benign       0.90      0.99      0.94      7039\n",
      "  Suspicious       0.33      0.01      0.01       437\n",
      "\n",
      "    accuracy                           0.91     10810\n",
      "   macro avg       0.72      0.62      0.62     10810\n",
      "weighted avg       0.89      0.91      0.89     10810\n",
      "\n",
      "[[2860  470    4]\n",
      " [  92 6945    2]\n",
      " [ 111  323    3]]\n",
      "0.9073080481036078\n"
     ]
    }
   ],
   "source": [
    "y_pred=grid.predict(X_test)\n",
    "print(classification_report(Y_test,y_pred))\n",
    "print(confusion_matrix(Y_test,y_pred))\n",
    "print(accuracy_score(Y_test,y_pred))\n",
    "\n"
   ]
  },
  {
   "cell_type": "code",
   "execution_count": 11,
   "metadata": {},
   "outputs": [],
   "source": [
    "remaninng_data=data.drop(sampled_data.index)\n",
    "y_unseen=remaninng_data['label']\n",
    "x_unseen=remaninng_data.drop(columns=['label'])"
   ]
  },
  {
   "cell_type": "code",
   "execution_count": 12,
   "metadata": {},
   "outputs": [
    {
     "name": "stdout",
     "output_type": "stream",
     "text": [
      "              precision    recall  f1-score   support\n",
      "\n",
      "      Attack       0.93      0.86      0.90    153564\n",
      "      Benign       0.90      0.99      0.94    314126\n",
      "  Suspicious       0.22      0.01      0.01     18755\n",
      "\n",
      "    accuracy                           0.91    486445\n",
      "   macro avg       0.69      0.62      0.62    486445\n",
      "weighted avg       0.88      0.91      0.89    486445\n",
      "\n",
      "[[132827  20584    153]\n",
      " [  4371 309564    191]\n",
      " [  4916  13741     98]]\n",
      "0.9096382941545292\n"
     ]
    }
   ],
   "source": [
    "y_unseen_pred=grid.predict(x_unseen)\n",
    "print(classification_report(y_unseen,y_unseen_pred))\n",
    "print(confusion_matrix(y_unseen,y_unseen_pred))\n",
    "print(accuracy_score(y_unseen,y_unseen_pred))\n"
   ]
  },
  {
   "cell_type": "code",
   "execution_count": 13,
   "metadata": {},
   "outputs": [],
   "source": [
    "import matplotlib.pyplot as plt"
   ]
  },
  {
   "cell_type": "code",
   "execution_count": 14,
   "metadata": {},
   "outputs": [
    {
     "data": {
      "image/png": "[encoded data removed]",
      "text/plain": [
       "<Figure size 640x480 with 2 Axes>"
      ]
     },
     "metadata": {},
     "output_type": "display_data"
    }
   ],
   "source": [
    "sns.heatmap(confusion_matrix(y_unseen,y_unseen_pred),annot=True,fmt='d',xticklabels=[\"Attack\",\"Benign\",\"Suspicious\"],\n",
    "            yticklabels=[\"Attack\",\"Benign\",\"Suspicious\"])\n",
    "plt.title(\"Confusion Matrix for complete data\")\n",
    "plt.xlabel(\"Predicted\")\n",
    "plt.ylabel(\"Actual\")\n",
    "plt.show()"
   ]
  },
  {
   "cell_type": "code",
   "execution_count": 16,
   "metadata": {},
   "outputs": [],
   "source": [
    "import joblib"
   ]
  },
  {
   "cell_type": "code",
   "execution_count": 17,
   "metadata": {},
   "outputs": [],
   "source": [
    "artifact={\n",
    "    'scaler':grid.best_estimator_.named_steps['scaler'],\n",
    "    'model':grid.best_estimator_.named_steps['model'],\n",
    "    'best_params':grid.best_params_,\n",
    "    'best_score':grid.best_score_,\n",
    "    'columns':X.columns\n",
    "}\n",
    "\n",
    "with open('LR_model_artifacts.pkl','wb') as f:\n",
    "    joblib.dump(artifact,f)"
   ]
  },
  {
   "cell_type": "code",
   "execution_count": null,
   "metadata": {},
   "outputs": [],
   "source": []
  }
 ],
 "metadata": {
  "kernelspec": {
   "display_name": ".venv",
   "language": "python",
   "name": "python3"
  },
  "language_info": {
   "codemirror_mode": {
    "name": "ipython",
    "version": 3
   },
   "file_extension": ".py",
   "mimetype": "text/x-python",
   "name": "python",
   "nbconvert_exporter": "python",
   "pygments_lexer": "ipython3",
   "version": "3.11.9"
  }
 },
 "nbformat": 4,
 "nbformat_minor": 2
}
