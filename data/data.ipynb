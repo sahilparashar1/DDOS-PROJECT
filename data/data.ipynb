{
 "cells": [
  {
   "cell_type": "code",
   "execution_count": 1,
   "metadata": {},
   "outputs": [],
   "source": [
    "import pandas as pd"
   ]
  },
  {
   "cell_type": "code",
   "execution_count": 2,
   "metadata": {},
   "outputs": [],
   "source": [
    "df=pd.read_parquet(r'bccc-cpacket-cloud-ddos-2024-merged.parquet')"
   ]
  },
  {
   "cell_type": "code",
   "execution_count": 3,
   "metadata": {},
   "outputs": [
    {
     "data": {
      "text/plain": [
       "['src_port',\n",
       " 'dst_port',\n",
       " 'duration',\n",
       " 'packets_count',\n",
       " 'fwd_packets_count',\n",
       " 'bwd_packets_count',\n",
       " 'total_payload_bytes',\n",
       " 'fwd_total_payload_bytes',\n",
       " 'bwd_total_payload_bytes',\n",
       " 'payload_bytes_max',\n",
       " 'payload_bytes_min',\n",
       " 'payload_bytes_mean',\n",
       " 'payload_bytes_std',\n",
       " 'payload_bytes_variance',\n",
       " 'payload_bytes_median',\n",
       " 'payload_bytes_skewness',\n",
       " 'payload_bytes_cov',\n",
       " 'payload_bytes_mode',\n",
       " 'fwd_payload_bytes_max',\n",
       " 'fwd_payload_bytes_min',\n",
       " 'fwd_payload_bytes_mean',\n",
       " 'fwd_payload_bytes_std',\n",
       " 'fwd_payload_bytes_variance',\n",
       " 'fwd_payload_bytes_median',\n",
       " 'fwd_payload_bytes_skewness',\n",
       " 'fwd_payload_bytes_cov',\n",
       " 'fwd_payload_bytes_mode',\n",
       " 'bwd_payload_bytes_max',\n",
       " 'bwd_payload_bytes_min',\n",
       " 'bwd_payload_bytes_mean',\n",
       " 'bwd_payload_bytes_std',\n",
       " 'bwd_payload_bytes_variance',\n",
       " 'bwd_payload_bytes_median',\n",
       " 'bwd_payload_bytes_skewness',\n",
       " 'bwd_payload_bytes_cov',\n",
       " 'bwd_payload_bytes_mode',\n",
       " 'total_header_bytes',\n",
       " 'max_header_bytes',\n",
       " 'min_header_bytes',\n",
       " 'mean_header_bytes',\n",
       " 'std_header_bytes',\n",
       " 'median_header_bytes',\n",
       " 'skewness_header_bytes',\n",
       " 'cov_header_bytes',\n",
       " 'mode_header_bytes',\n",
       " 'variance_header_bytes',\n",
       " 'fwd_total_header_bytes',\n",
       " 'fwd_max_header_bytes',\n",
       " 'fwd_min_header_bytes',\n",
       " 'fwd_mean_header_bytes',\n",
       " 'fwd_std_header_bytes',\n",
       " 'fwd_median_header_bytes',\n",
       " 'fwd_skewness_header_bytes',\n",
       " 'fwd_cov_header_bytes',\n",
       " 'fwd_mode_header_bytes',\n",
       " 'fwd_variance_header_bytes',\n",
       " 'bwd_total_header_bytes',\n",
       " 'bwd_max_header_bytes',\n",
       " 'bwd_min_header_bytes',\n",
       " 'bwd_mean_header_bytes',\n",
       " 'bwd_std_header_bytes',\n",
       " 'bwd_median_header_bytes',\n",
       " 'bwd_skewness_header_bytes',\n",
       " 'bwd_cov_header_bytes',\n",
       " 'bwd_mode_header_bytes',\n",
       " 'bwd_variance_header_bytes',\n",
       " 'fwd_avg_segment_size',\n",
       " 'bwd_avg_segment_size',\n",
       " 'avg_segment_size',\n",
       " 'fwd_init_win_bytes',\n",
       " 'bwd_init_win_bytes',\n",
       " 'active_min',\n",
       " 'active_max',\n",
       " 'active_mean',\n",
       " 'active_std',\n",
       " 'active_median',\n",
       " 'active_skewness',\n",
       " 'active_cov',\n",
       " 'active_mode',\n",
       " 'active_variance',\n",
       " 'idle_min',\n",
       " 'idle_max',\n",
       " 'idle_mean',\n",
       " 'idle_std',\n",
       " 'idle_median',\n",
       " 'idle_skewness',\n",
       " 'idle_cov',\n",
       " 'idle_mode',\n",
       " 'idle_variance',\n",
       " 'bytes_rate',\n",
       " 'fwd_bytes_rate',\n",
       " 'bwd_bytes_rate',\n",
       " 'packets_rate',\n",
       " 'bwd_packets_rate',\n",
       " 'fwd_packets_rate',\n",
       " 'down_up_rate',\n",
       " 'avg_fwd_bytes_per_bulk',\n",
       " 'avg_fwd_packets_per_bulk',\n",
       " 'avg_fwd_bulk_rate',\n",
       " 'avg_bwd_bytes_per_bulk',\n",
       " 'avg_bwd_packets_bulk_rate',\n",
       " 'avg_bwd_bulk_rate',\n",
       " 'fwd_bulk_state_count',\n",
       " 'fwd_bulk_total_size',\n",
       " 'fwd_bulk_per_packet',\n",
       " 'fwd_bulk_duration',\n",
       " 'bwd_bulk_state_count',\n",
       " 'bwd_bulk_total_size',\n",
       " 'bwd_bulk_per_packet',\n",
       " 'bwd_bulk_duration',\n",
       " 'fin_flag_counts',\n",
       " 'psh_flag_counts',\n",
       " 'urg_flag_counts',\n",
       " 'ece_flag_counts',\n",
       " 'syn_flag_counts',\n",
       " 'ack_flag_counts',\n",
       " 'cwr_flag_counts',\n",
       " 'rst_flag_counts',\n",
       " 'fwd_fin_flag_counts',\n",
       " 'fwd_psh_flag_counts',\n",
       " 'fwd_urg_flag_counts',\n",
       " 'fwd_ece_flag_counts',\n",
       " 'fwd_syn_flag_counts',\n",
       " 'fwd_ack_flag_counts',\n",
       " 'fwd_cwr_flag_counts',\n",
       " 'fwd_rst_flag_counts',\n",
       " 'bwd_fin_flag_counts',\n",
       " 'bwd_psh_flag_counts',\n",
       " 'bwd_urg_flag_counts',\n",
       " 'bwd_ece_flag_counts',\n",
       " 'bwd_syn_flag_counts',\n",
       " 'bwd_ack_flag_counts',\n",
       " 'bwd_cwr_flag_counts',\n",
       " 'bwd_rst_flag_counts',\n",
       " 'fin_flag_percentage_in_total',\n",
       " 'psh_flag_percentage_in_total',\n",
       " 'urg_flag_percentage_in_total',\n",
       " 'ece_flag_percentage_in_total',\n",
       " 'syn_flag_percentage_in_total',\n",
       " 'ack_flag_percentage_in_total',\n",
       " 'cwr_flag_percentage_in_total',\n",
       " 'rst_flag_percentage_in_total',\n",
       " 'fwd_fin_flag_percentage_in_total',\n",
       " 'fwd_psh_flag_percentage_in_total',\n",
       " 'fwd_urg_flag_percentage_in_total',\n",
       " 'fwd_ece_flag_percentage_in_total',\n",
       " 'fwd_syn_flag_percentage_in_total',\n",
       " 'fwd_ack_flag_percentage_in_total',\n",
       " 'fwd_cwr_flag_percentage_in_total',\n",
       " 'fwd_rst_flag_percentage_in_total',\n",
       " 'bwd_fin_flag_percentage_in_total',\n",
       " 'bwd_psh_flag_percentage_in_total',\n",
       " 'bwd_urg_flag_percentage_in_total',\n",
       " 'bwd_ece_flag_percentage_in_total',\n",
       " 'bwd_syn_flag_percentage_in_total',\n",
       " 'bwd_ack_flag_percentage_in_total',\n",
       " 'bwd_cwr_flag_percentage_in_total',\n",
       " 'bwd_rst_flag_percentage_in_total',\n",
       " 'fwd_fin_flag_percentage_in_fwd_packets',\n",
       " 'fwd_psh_flag_percentage_in_fwd_packets',\n",
       " 'fwd_urg_flag_percentage_in_fwd_packets',\n",
       " 'fwd_ece_flag_percentage_in_fwd_packets',\n",
       " 'fwd_syn_flag_percentage_in_fwd_packets',\n",
       " 'fwd_ack_flag_percentage_in_fwd_packets',\n",
       " 'fwd_cwr_flag_percentage_in_fwd_packets',\n",
       " 'fwd_rst_flag_percentage_in_fwd_packets',\n",
       " 'bwd_fin_flag_percentage_in_bwd_packets',\n",
       " 'bwd_psh_flag_percentage_in_bwd_packets',\n",
       " 'bwd_urg_flag_percentage_in_bwd_packets',\n",
       " 'bwd_ece_flag_percentage_in_bwd_packets',\n",
       " 'bwd_syn_flag_percentage_in_bwd_packets',\n",
       " 'bwd_ack_flag_percentage_in_bwd_packets',\n",
       " 'bwd_cwr_flag_percentage_in_bwd_packets',\n",
       " 'bwd_rst_flag_percentage_in_bwd_packets',\n",
       " 'packets_IAT_mean',\n",
       " 'packet_IAT_std',\n",
       " 'packet_IAT_max',\n",
       " 'packet_IAT_min',\n",
       " 'packet_IAT_total',\n",
       " 'packets_IAT_median',\n",
       " 'packets_IAT_skewness',\n",
       " 'packets_IAT_cov',\n",
       " 'packets_IAT_mode',\n",
       " 'packets_IAT_variance',\n",
       " 'fwd_packets_IAT_mean',\n",
       " 'fwd_packets_IAT_std',\n",
       " 'fwd_packets_IAT_max',\n",
       " 'fwd_packets_IAT_min',\n",
       " 'fwd_packets_IAT_total',\n",
       " 'fwd_packets_IAT_median',\n",
       " 'fwd_packets_IAT_skewness',\n",
       " 'fwd_packets_IAT_cov',\n",
       " 'fwd_packets_IAT_mode',\n",
       " 'fwd_packets_IAT_variance',\n",
       " 'bwd_packets_IAT_mean',\n",
       " 'bwd_packets_IAT_std',\n",
       " 'bwd_packets_IAT_max',\n",
       " 'bwd_packets_IAT_min',\n",
       " 'bwd_packets_IAT_total',\n",
       " 'bwd_packets_IAT_median',\n",
       " 'bwd_packets_IAT_skewness',\n",
       " 'bwd_packets_IAT_cov',\n",
       " 'bwd_packets_IAT_mode',\n",
       " 'bwd_packets_IAT_variance',\n",
       " 'subflow_fwd_packets',\n",
       " 'subflow_bwd_packets',\n",
       " 'subflow_fwd_bytes',\n",
       " 'subflow_bwd_bytes',\n",
       " 'delta_start',\n",
       " 'handshake_duration',\n",
       " 'handshake_state',\n",
       " 'min_bwd_packets_delta_time',\n",
       " 'max_bwd_packets_delta_time',\n",
       " 'mean_packets_delta_time',\n",
       " 'mode_packets_delta_time',\n",
       " 'variance_packets_delta_time',\n",
       " 'std_packets_delta_time',\n",
       " 'median_packets_delta_time',\n",
       " 'skewness_packets_delta_time',\n",
       " 'cov_packets_delta_time',\n",
       " 'mean_bwd_packets_delta_time',\n",
       " 'mode_bwd_packets_delta_time',\n",
       " 'variance_bwd_packets_delta_time',\n",
       " 'std_bwd_packets_delta_time',\n",
       " 'median_bwd_packets_delta_time',\n",
       " 'skewness_bwd_packets_delta_time',\n",
       " 'cov_bwd_packets_delta_time',\n",
       " 'min_fwd_packets_delta_time',\n",
       " 'max_fwd_packets_delta_time',\n",
       " 'mean_fwd_packets_delta_time',\n",
       " 'mode_fwd_packets_delta_time',\n",
       " 'variance_fwd_packets_delta_time',\n",
       " 'std_fwd_packets_delta_time',\n",
       " 'median_fwd_packets_delta_time',\n",
       " 'skewness_fwd_packets_delta_time',\n",
       " 'cov_fwd_packets_delta_time',\n",
       " 'min_packets_delta_len',\n",
       " 'max_packets_delta_len',\n",
       " 'mean_packets_delta_len',\n",
       " 'mode_packets_delta_len',\n",
       " 'variance_packets_delta_len',\n",
       " 'std_packets_delta_len',\n",
       " 'median_packets_delta_len',\n",
       " 'skewness_packets_delta_len',\n",
       " 'cov_packets_delta_len',\n",
       " 'min_bwd_packets_delta_len',\n",
       " 'max_bwd_packets_delta_len',\n",
       " 'mean_bwd_packets_delta_len',\n",
       " 'mode_bwd_packets_delta_len',\n",
       " 'variance_bwd_packets_delta_len',\n",
       " 'std_bwd_packets_delta_len',\n",
       " 'median_bwd_packets_delta_len',\n",
       " 'skewness_bwd_packets_delta_len',\n",
       " 'cov_bwd_packets_delta_len',\n",
       " 'min_fwd_packets_delta_len',\n",
       " 'max_fwd_packets_delta_len',\n",
       " 'mean_fwd_packets_delta_len',\n",
       " 'mode_fwd_packets_delta_len',\n",
       " 'variance_fwd_packets_delta_len',\n",
       " 'std_fwd_packets_delta_len',\n",
       " 'median_fwd_packets_delta_len',\n",
       " 'skewness_fwd_packets_delta_len',\n",
       " 'cov_fwd_packets_delta_len',\n",
       " 'min_header_bytes_delta_len',\n",
       " 'max_header_bytes_delta_len',\n",
       " 'mean_header_bytes_delta_len',\n",
       " 'mode_header_bytes_delta_len',\n",
       " 'variance_header_bytes_delta_len',\n",
       " 'std_header_bytes_delta_len',\n",
       " 'median_header_bytes_delta_len',\n",
       " 'skewness_header_bytes_delta_len',\n",
       " 'cov_header_bytes_delta_len',\n",
       " 'min_bwd_header_bytes_delta_len',\n",
       " 'max_bwd_header_bytes_delta_len',\n",
       " 'mean_bwd_header_bytes_delta_len',\n",
       " 'mode_bwd_header_bytes_delta_len',\n",
       " 'variance_bwd_header_bytes_delta_len',\n",
       " 'std_bwd_header_bytes_delta_len',\n",
       " 'median_bwd_header_bytes_delta_len',\n",
       " 'skewness_bwd_header_bytes_delta_len',\n",
       " 'cov_bwd_header_bytes_delta_len',\n",
       " 'min_fwd_header_bytes_delta_len',\n",
       " 'max_fwd_header_bytes_delta_len',\n",
       " 'mean_fwd_header_bytes_delta_len',\n",
       " 'mode_fwd_header_bytes_delta_len',\n",
       " 'variance_fwd_header_bytes_delta_len',\n",
       " 'std_fwd_header_bytes_delta_len',\n",
       " 'median_fwd_header_bytes_delta_len',\n",
       " 'skewness_fwd_header_bytes_delta_len',\n",
       " 'cov_fwd_header_bytes_delta_len',\n",
       " 'min_payload_bytes_delta_len',\n",
       " 'max_payload_bytes_delta_len',\n",
       " 'mean_payload_bytes_delta_len',\n",
       " 'mode_payload_bytes_delta_len',\n",
       " 'variance_payload_bytes_delta_len',\n",
       " 'std_payload_bytes_delta_len',\n",
       " 'median_payload_bytes_delta_len',\n",
       " 'skewness_payload_bytes_delta_len',\n",
       " 'cov_payload_bytes_delta_len',\n",
       " 'min_bwd_payload_bytes_delta_len',\n",
       " 'max_bwd_payload_bytes_delta_len',\n",
       " 'mean_bwd_payload_bytes_delta_len',\n",
       " 'mode_bwd_payload_bytes_delta_len',\n",
       " 'variance_bwd_payload_bytes_delta_len',\n",
       " 'std_bwd_payload_bytes_delta_len',\n",
       " 'median_bwd_payload_bytes_delta_len',\n",
       " 'skewness_bwd_payload_bytes_delta_len',\n",
       " 'cov_bwd_payload_bytes_delta_len',\n",
       " 'min_fwd_payload_bytes_delta_len',\n",
       " 'max_fwd_payload_bytes_delta_len',\n",
       " 'mean_fwd_payload_bytes_delta_len',\n",
       " 'mode_fwd_payload_bytes_delta_len',\n",
       " 'variance_fwd_payload_bytes_delta_len',\n",
       " 'std_fwd_payload_bytes_delta_len',\n",
       " 'median_fwd_payload_bytes_delta_len',\n",
       " 'skewness_fwd_payload_bytes_delta_len',\n",
       " 'cov_fwd_payload_bytes_delta_len',\n",
       " 'label',\n",
       " 'activity']"
      ]
     },
     "execution_count": 3,
     "metadata": {},
     "output_type": "execute_result"
    }
   ],
   "source": [
    "df.columns.tolist()"
   ]
  },
  {
   "cell_type": "code",
   "execution_count": 4,
   "metadata": {},
   "outputs": [
    {
     "data": {
      "text/plain": [
       "(540494, 319)"
      ]
     },
     "execution_count": 4,
     "metadata": {},
     "output_type": "execute_result"
    }
   ],
   "source": [
    "df.shape"
   ]
  },
  {
   "cell_type": "code",
   "execution_count": 6,
   "metadata": {},
   "outputs": [],
   "source": [
    "data=pd.read_csv('final_data.csv')"
   ]
  },
  {
   "cell_type": "code",
   "execution_count": 7,
   "metadata": {},
   "outputs": [
    {
     "data": {
      "text/plain": [
       "(540494, 39)"
      ]
     },
     "execution_count": 7,
     "metadata": {},
     "output_type": "execute_result"
    }
   ],
   "source": [
    "data.shape"
   ]
  },
  {
   "cell_type": "code",
   "execution_count": 8,
   "metadata": {},
   "outputs": [],
   "source": [
    "sampled_data=data.sample(frac=0.1,random_state=42)"
   ]
  },
  {
   "cell_type": "code",
   "execution_count": 11,
   "metadata": {},
   "outputs": [
    {
     "data": {
      "text/plain": [
       "Index(['total_header_bytes', 'max_header_bytes', 'min_header_bytes',\n",
       "       'mean_header_bytes', 'median_header_bytes', 'mode_header_bytes',\n",
       "       'fwd_total_header_bytes', 'fwd_max_header_bytes',\n",
       "       'fwd_min_header_bytes', 'fwd_mean_header_bytes',\n",
       "       'fwd_median_header_bytes', 'fwd_mode_header_bytes',\n",
       "       'fwd_init_win_bytes', 'bwd_init_win_bytes', 'packets_rate',\n",
       "       'bwd_packets_rate', 'fwd_packets_rate', 'rst_flag_counts',\n",
       "       'bwd_rst_flag_counts', 'psh_flag_percentage_in_total',\n",
       "       'rst_flag_percentage_in_total', 'fwd_psh_flag_percentage_in_total',\n",
       "       'fwd_syn_flag_percentage_in_fwd_packets',\n",
       "       'bwd_psh_flag_percentage_in_bwd_packets',\n",
       "       'bwd_rst_flag_percentage_in_bwd_packets', 'bwd_packets_IAT_mean',\n",
       "       'bwd_packets_IAT_std', 'bwd_packets_IAT_max', 'bwd_packets_IAT_min',\n",
       "       'bwd_packets_IAT_total', 'bwd_packets_IAT_median',\n",
       "       'bwd_packets_IAT_mode', 'handshake_duration', 'handshake_state',\n",
       "       'mean_bwd_packets_delta_time', 'median_bwd_packets_delta_time',\n",
       "       'skewness_packets_delta_len', 'mode_fwd_packets_delta_len', 'label'],\n",
       "      dtype='object')"
      ]
     },
     "execution_count": 11,
     "metadata": {},
     "output_type": "execute_result"
    }
   ],
   "source": [
    "data.columns"
   ]
  },
  {
   "cell_type": "code",
   "execution_count": 12,
   "metadata": {},
   "outputs": [],
   "source": [
    "X=sampled_data.drop('label',axis=1)"
   ]
  },
  {
   "cell_type": "code",
   "execution_count": 13,
   "metadata": {},
   "outputs": [],
   "source": [
    "Y=sampled_data['label']"
   ]
  },
  {
   "cell_type": "code",
   "execution_count": 14,
   "metadata": {},
   "outputs": [],
   "source": [
    "import numpy as np\n",
    "import seaborn as sns\n",
    "from sklearn.model_selection import train_test_split, GridSearchCV\n",
    "from sklearn.preprocessing import StandardScaler\n",
    "from sklearn.linear_model import LogisticRegression\n",
    "from sklearn.metrics import accuracy_score, classification_report, confusion_matrix\n",
    "from sklearn.pipeline import Pipeline"
   ]
  },
  {
   "cell_type": "code",
   "execution_count": 15,
   "metadata": {},
   "outputs": [],
   "source": [
    "X_train,X_test,Y_train,Y_test=train_test_split(X,Y,test_size=0.2,random_state=42)"
   ]
  },
  {
   "cell_type": "code",
   "execution_count": null,
   "metadata": {},
   "outputs": [
    {
     "name": "stdout",
     "output_type": "stream",
     "text": [
      "Fitting 5 folds for each of 2 candidates, totalling 10 fits\n"
     ]
    },
    {
     "name": "stderr",
     "output_type": "stream",
     "text": [
      "c:\\Users\\sahil\\Desktop\\DDOS PROJECT PART 2\\.venv\\Lib\\site-packages\\sklearn\\linear_model\\_logistic.py:1264: FutureWarning: 'multi_class' was deprecated in version 1.5 and will be removed in 1.7. From then on, it will always use 'multinomial'. Leave it to its default value to avoid this warning.\n",
      "  warnings.warn(\n"
     ]
    },
    {
     "name": "stdout",
     "output_type": "stream",
     "text": [
      "{'model__C': 2, 'model__class_weight': None, 'model__max_iter': 1000, 'model__multi_class': 'multinomial', 'model__penalty': 'l1', 'model__solver': 'saga'}\n",
      "0.9101967904040127\n"
     ]
    },
    {
     "name": "stderr",
     "output_type": "stream",
     "text": [
      "c:\\Users\\sahil\\Desktop\\DDOS PROJECT PART 2\\.venv\\Lib\\site-packages\\sklearn\\linear_model\\_sag.py:348: ConvergenceWarning: The max_iter was reached which means the coef_ did not converge\n",
      "  warnings.warn(\n"
     ]
    }
   ],
   "source": [
    "pipe=Pipeline([('scaler',StandardScaler()),('model',LogisticRegression())])\n",
    "params={\n",
    "        'model__C': [2], \n",
    "        'model__penalty': ['l1'],               \n",
    "        'model__solver': ['saga'],       \n",
    "        'model__max_iter': [1000],         \n",
    "        'model__class_weight': [None],\n",
    "        'model__multi_class': ['multinomial']\n",
    "        }\n",
    "grid=GridSearchCV(pipe,params,cv=5,n_jobs=-1,scoring='recall_weighted',verbose=1)\n",
    "grid.fit(X_train,Y_train)\n",
    "print(grid.best_params_)\n",
    "print(grid.best_score_)\n"
   ]
  },
  {
   "cell_type": "code",
   "execution_count": 24,
   "metadata": {},
   "outputs": [
    {
     "name": "stdout",
     "output_type": "stream",
     "text": [
      "              precision    recall  f1-score   support\n",
      "\n",
      "      Attack       0.93      0.86      0.89      3334\n",
      "      Benign       0.90      0.99      0.94      7039\n",
      "  Suspicious       0.50      0.01      0.02       437\n",
      "\n",
      "    accuracy                           0.91     10810\n",
      "   macro avg       0.78      0.62      0.62     10810\n",
      "weighted avg       0.89      0.91      0.89     10810\n",
      "\n",
      "[[2857  474    3]\n",
      " [  97 6940    2]\n",
      " [ 105  327    5]]\n",
      "0.9067530064754856\n"
     ]
    }
   ],
   "source": [
    "y_pred=grid.predict(X_test)\n",
    "print(classification_report(Y_test,y_pred))\n",
    "print(confusion_matrix(Y_test,y_pred))\n",
    "print(accuracy_score(Y_test,y_pred))\n",
    "\n"
   ]
  },
  {
   "cell_type": "code",
   "execution_count": 25,
   "metadata": {},
   "outputs": [],
   "source": [
    "remaninng_data=data.drop(sampled_data.index)\n",
    "y_unseen=remaninng_data['label']\n",
    "x_unseen=remaninng_data.drop(columns=['label'])"
   ]
  },
  {
   "cell_type": "code",
   "execution_count": 28,
   "metadata": {},
   "outputs": [
    {
     "name": "stdout",
     "output_type": "stream",
     "text": [
      "              precision    recall  f1-score   support\n",
      "\n",
      "      Attack       0.93      0.86      0.90    153564\n",
      "      Benign       0.90      0.99      0.94    314126\n",
      "  Suspicious       0.24      0.01      0.01     18755\n",
      "\n",
      "    accuracy                           0.91    486445\n",
      "   macro avg       0.69      0.62      0.62    486445\n",
      "weighted avg       0.89      0.91      0.89    486445\n",
      "\n",
      "[[132755  20646    163]\n",
      " [  4401 309543    182]\n",
      " [  4842  13803    110]]\n",
      "0.9094717799545683\n"
     ]
    }
   ],
   "source": [
    "y_unseen_pred=grid.predict(x_unseen)\n",
    "print(classification_report(y_unseen,y_unseen_pred))\n",
    "print(confusion_matrix(y_unseen,y_unseen_pred))\n",
    "print(accuracy_score(y_unseen,y_unseen_pred))\n"
   ]
  },
  {
   "cell_type": "code",
   "execution_count": 32,
   "metadata": {},
   "outputs": [],
   "source": [
    "import matplotlib.pyplot as plt"
   ]
  },
  {
   "cell_type": "code",
   "execution_count": 39,
   "metadata": {},
   "outputs": [
    {
     "data": {
      "image/png": "[encoded data removed]",
      "text/plain": [
       "<Figure size 640x480 with 2 Axes>"
      ]
     },
     "metadata": {},
     "output_type": "display_data"
    }
   ],
   "source": [
    "sns.heatmap(confusion_matrix(y_unseen,y_unseen_pred),annot=True,fmt='d',xticklabels=[\"Attack\",\"Benign\",\"Suspicious\"],\n",
    "            yticklabels=[\"Attack\",\"Benign\",\"Suspicious\"])\n",
    "plt.title(\"Confusion Matrix for complete data\")\n",
    "plt.xlabel(\"Predicted\")\n",
    "plt.ylabel(\"Actual\")\n",
    "plt.show()"
   ]
  },
  {
   "cell_type": "code",
   "execution_count": 41,
   "metadata": {},
   "outputs": [],
   "source": [
    "import joblib"
   ]
  },
  {
   "cell_type": "code",
   "execution_count": 42,
   "metadata": {},
   "outputs": [],
   "source": [
    "artifact={\n",
    "    'scaler':StandardScaler(),\n",
    "    'model':grid.best_estimator_,\n",
    "    'best_params':grid.best_params_,\n",
    "    'best_score':grid.best_score_,\n",
    "    'columns':X.columns\n",
    "}\n",
    "\n",
    "with open('LR_model_artifacts.pkl','wb') as f:\n",
    "    joblib.dump(artifact,f)"
   ]
  },
  {
   "cell_type": "code",
   "execution_count": null,
   "metadata": {},
   "outputs": [],
   "source": []
  }
 ],
 "metadata": {
  "kernelspec": {
   "display_name": ".venv",
   "language": "python",
   "name": "python3"
  },
  "language_info": {
   "codemirror_mode": {
    "name": "ipython",
    "version": 3
   },
   "file_extension": ".py",
   "mimetype": "text/x-python",
   "name": "python",
   "nbconvert_exporter": "python",
   "pygments_lexer": "ipython3",
   "version": "3.11.9"
  }
 },
 "nbformat": 4,
 "nbformat_minor": 2
}
