{
 "cells": [
  {
   "cell_type": "code",
   "execution_count": 1,
   "metadata": {},
   "outputs": [],
   "source": [
    "import pandas as pd"
   ]
  },
  {
   "cell_type": "code",
   "execution_count": 2,
   "metadata": {},
   "outputs": [],
   "source": [
    "df=pd.read_csv('test_output.csv')"
   ]
  },
  {
   "cell_type": "code",
   "execution_count": 3,
   "metadata": {},
   "outputs": [
    {
     "data": {
      "text/plain": [
       "Index(['flow_id', 'timestamp', 'src_ip', 'src_port', 'dst_ip', 'dst_port',\n",
       "       'protocol', 'total_header_bytes', 'max_header_bytes',\n",
       "       'min_header_bytes', 'mean_header_bytes', 'median_header_bytes',\n",
       "       'mode_header_bytes', 'fwd_total_header_bytes', 'fwd_max_header_bytes',\n",
       "       'fwd_min_header_bytes', 'fwd_mean_header_bytes',\n",
       "       'fwd_median_header_bytes', 'fwd_mode_header_bytes',\n",
       "       'fwd_segment_size_mean', 'fwd_segment_size_max', 'fwd_segment_size_min',\n",
       "       'fwd_segment_size_std', 'fwd_segment_size_variance',\n",
       "       'fwd_segment_size_median', 'fwd_segment_size_skewness',\n",
       "       'fwd_segment_size_cov', 'fwd_segment_size_mode',\n",
       "       'bwd_segment_size_mean', 'bwd_segment_size_max', 'bwd_segment_size_min',\n",
       "       'bwd_segment_size_std', 'bwd_segment_size_variance',\n",
       "       'bwd_segment_size_median', 'bwd_segment_size_skewness',\n",
       "       'bwd_segment_size_cov', 'bwd_segment_size_mode', 'segment_size_mean',\n",
       "       'segment_size_max', 'segment_size_min', 'segment_size_std',\n",
       "       'segment_size_variance', 'segment_size_median', 'segment_size_skewness',\n",
       "       'segment_size_cov', 'segment_size_mode', 'fwd_init_win_bytes',\n",
       "       'bwd_init_win_bytes', 'packets_rate', 'bwd_packets_rate',\n",
       "       'fwd_packets_rate', 'rst_flag_counts', 'bwd_rst_flag_counts',\n",
       "       'psh_flag_percentage_in_total', 'rst_flag_percentage_in_total',\n",
       "       'fwd_psh_flag_percentage_in_total',\n",
       "       'fwd_syn_flag_percentage_in_fwd_packets',\n",
       "       'bwd_psh_flag_percentage_in_bwd_packets',\n",
       "       'bwd_rst_flag_percentage_in_bwd_packets', 'bwd_packets_IAT_mean',\n",
       "       'bwd_packets_IAT_std', 'bwd_packets_IAT_max', 'bwd_packets_IAT_min',\n",
       "       'bwd_packets_IAT_total', 'bwd_packets_IAT_median',\n",
       "       'bwd_packets_IAT_mode', 'handshake_duration', 'handshake_state',\n",
       "       'mean_bwd_packets_delta_time', 'median_bwd_packets_delta_time',\n",
       "       'skewness_packets_delta_len', 'mode_fwd_packets_delta_len', 'label'],\n",
       "      dtype='object')"
      ]
     },
     "execution_count": 3,
     "metadata": {},
     "output_type": "execute_result"
    }
   ],
   "source": [
    "df.columns"
   ]
  },
  {
   "cell_type": "code",
   "execution_count": 4,
   "metadata": {},
   "outputs": [
    {
     "data": {
      "text/plain": [
       "73"
      ]
     },
     "execution_count": 4,
     "metadata": {},
     "output_type": "execute_result"
    }
   ],
   "source": [
    "len(df.columns)"
   ]
  },
  {
   "cell_type": "code",
   "execution_count": 6,
   "metadata": {},
   "outputs": [],
   "source": [
    "import joblib"
   ]
  },
  {
   "cell_type": "code",
   "execution_count": 12,
   "metadata": {},
   "outputs": [],
   "source": [
    "with open(r'C:\\Users\\sahil\\Desktop\\DDOS PROJECT PART 2\\LR_model_artifacts.pkl','rb') as f:\n",
    "    artifact=joblib.load(f)"
   ]
  },
  {
   "cell_type": "code",
   "execution_count": 14,
   "metadata": {},
   "outputs": [],
   "source": [
    "cols=artifact['columns']"
   ]
  },
  {
   "cell_type": "code",
   "execution_count": 15,
   "metadata": {},
   "outputs": [
    {
     "name": "stdout",
     "output_type": "stream",
     "text": [
      "Index(['total_header_bytes', 'max_header_bytes', 'min_header_bytes',\n",
      "       'mean_header_bytes', 'median_header_bytes', 'mode_header_bytes',\n",
      "       'fwd_total_header_bytes', 'fwd_max_header_bytes',\n",
      "       'fwd_min_header_bytes', 'fwd_mean_header_bytes',\n",
      "       'fwd_median_header_bytes', 'fwd_mode_header_bytes',\n",
      "       'fwd_init_win_bytes', 'bwd_init_win_bytes', 'packets_rate',\n",
      "       'bwd_packets_rate', 'fwd_packets_rate', 'rst_flag_counts',\n",
      "       'bwd_rst_flag_counts', 'psh_flag_percentage_in_total',\n",
      "       'rst_flag_percentage_in_total', 'fwd_psh_flag_percentage_in_total',\n",
      "       'fwd_syn_flag_percentage_in_fwd_packets',\n",
      "       'bwd_psh_flag_percentage_in_bwd_packets',\n",
      "       'bwd_rst_flag_percentage_in_bwd_packets', 'bwd_packets_IAT_mean',\n",
      "       'bwd_packets_IAT_std', 'bwd_packets_IAT_max', 'bwd_packets_IAT_min',\n",
      "       'bwd_packets_IAT_total', 'bwd_packets_IAT_median',\n",
      "       'bwd_packets_IAT_mode', 'handshake_duration', 'handshake_state',\n",
      "       'mean_bwd_packets_delta_time', 'median_bwd_packets_delta_time',\n",
      "       'skewness_packets_delta_len', 'mode_fwd_packets_delta_len'],\n",
      "      dtype='object')\n"
     ]
    }
   ],
   "source": [
    "print(cols)"
   ]
  },
  {
   "cell_type": "code",
   "execution_count": 24,
   "metadata": {},
   "outputs": [
    {
     "data": {
      "text/plain": [
       "38"
      ]
     },
     "execution_count": 24,
     "metadata": {},
     "output_type": "execute_result"
    }
   ],
   "source": [
    "len(cols)"
   ]
  },
  {
   "cell_type": "code",
   "execution_count": 18,
   "metadata": {},
   "outputs": [],
   "source": [
    "data=pd.read_parquet(r'C:\\Users\\sahil\\Desktop\\DDOS PROJECT PART 2\\data\\bccc-cpacket-cloud-ddos-2024-merged.parquet')"
   ]
  },
  {
   "cell_type": "code",
   "execution_count": 20,
   "metadata": {},
   "outputs": [
    {
     "data": {
      "text/plain": [
       "319"
      ]
     },
     "execution_count": 20,
     "metadata": {},
     "output_type": "execute_result"
    }
   ],
   "source": [
    "len(data.columns)"
   ]
  },
  {
   "cell_type": "code",
   "execution_count": 21,
   "metadata": {},
   "outputs": [],
   "source": [
    "cols_to_drop=[]\n",
    "for i in data.columns:\n",
    "    if i not in cols:\n",
    "        cols_to_drop.append(i)\n",
    "        "
   ]
  },
  {
   "cell_type": "code",
   "execution_count": 26,
   "metadata": {},
   "outputs": [],
   "source": [
    "import json"
   ]
  },
  {
   "cell_type": "code",
   "execution_count": 27,
   "metadata": {},
   "outputs": [],
   "source": [
    "with open(r'C:\\Users\\sahil\\Desktop\\DDOS PROJECT PART 2\\configg_template.json','rb') as f:\n",
    "    config=json.load(f)"
   ]
  },
  {
   "cell_type": "code",
   "execution_count": 28,
   "metadata": {},
   "outputs": [],
   "source": [
    "config['features_ignore_list']=cols_to_drop"
   ]
  },
  {
   "cell_type": "code",
   "execution_count": 29,
   "metadata": {},
   "outputs": [
    {
     "ename": "AttributeError",
     "evalue": "'dict' object has no attribute 'to_json'",
     "output_type": "error",
     "traceback": [
      "\u001b[31m---------------------------------------------------------------------------\u001b[39m",
      "\u001b[31mAttributeError\u001b[39m                            Traceback (most recent call last)",
      "\u001b[36mCell\u001b[39m\u001b[36m \u001b[39m\u001b[32mIn[29]\u001b[39m\u001b[32m, line 1\u001b[39m\n\u001b[32m----> \u001b[39m\u001b[32m1\u001b[39m \u001b[43mconfig\u001b[49m\u001b[43m.\u001b[49m\u001b[43mto_json\u001b[49m(\u001b[33mr\u001b[39m\u001b[33m'\u001b[39m\u001b[33mC:\u001b[39m\u001b[33m\\\u001b[39m\u001b[33mUsers\u001b[39m\u001b[33m\\\u001b[39m\u001b[33msahil\u001b[39m\u001b[33m\\\u001b[39m\u001b[33mDesktop\u001b[39m\u001b[33m\\\u001b[39m\u001b[33mDDOS PROJECT PART 2\u001b[39m\u001b[33m\\\u001b[39m\u001b[33mconfigg_template.json\u001b[39m\u001b[33m'\u001b[39m,indent=\u001b[32m4\u001b[39m)\n",
      "\u001b[31mAttributeError\u001b[39m: 'dict' object has no attribute 'to_json'"
     ]
    }
   ],
   "source": [
    "with open(r'C:\\Users\\sahil\\Desktop\\DDOS PROJECT PART 2\\configg_template.json', 'w') as f:\n",
    "    json.dump(config, f, indent=4)"
   ]
  },
  {
   "cell_type": "code",
   "execution_count": null,
   "metadata": {},
   "outputs": [],
   "source": []
  }
 ],
 "metadata": {
  "kernelspec": {
   "display_name": ".venv",
   "language": "python",
   "name": "python3"
  },
  "language_info": {
   "codemirror_mode": {
    "name": "ipython",
    "version": 3
   },
   "file_extension": ".py",
   "mimetype": "text/x-python",
   "name": "python",
   "nbconvert_exporter": "python",
   "pygments_lexer": "ipython3",
   "version": "3.11.9"
  }
 },
 "nbformat": 4,
 "nbformat_minor": 2
}
